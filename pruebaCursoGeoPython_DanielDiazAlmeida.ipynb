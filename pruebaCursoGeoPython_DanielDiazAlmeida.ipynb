{
 "cells": [
  {
   "cell_type": "markdown",
   "metadata": {},
   "source": [
    "# Prueba curso GeoPython"
   ]
  },
  {
   "cell_type": "markdown",
   "metadata": {},
   "source": [
    "**Profesor:** *Herberd*\n",
    "\n",
    "**Alumno:** *Daniel Eduardo Díaz Almeida*"
   ]
  },
  {
   "cell_type": "markdown",
   "metadata": {},
   "source": [
    "**Instrucciones prueba curso geopython:**\n",
    "\t\n",
    "\t1  Leer el dataset de nombre «prueba_curso_geopython»\n",
    "\t2  Visualizar la variable en el plano, con respectivas etiquetas y mapa de colores.\n",
    "\t3  Obtener media, mediana, moda, varianza, desviación estándar, coeficiente de variación, factor de asimetría y curtosis de la variable de interés.\n",
    "\t4  Gráfico de derivas [x-variable], [y-variable].\n",
    "\t5  Graficar histograma simple, acumulado, cajas y bigotes.\n",
    "\t6  Obtener variograma (parámetros determinados de forma independiente por el estudiante) – [PyKrige].\n",
    "\t7  Crear grilla referente a los limites del modelo con celdas de tamaño seleccionadas por el estudiante.\n",
    "\t8  Generar una estimación mediante Kriging Ordinario, obteniendo además varianza de estimación.\n",
    "\t9  En una figura (matplotlib), crear 3 gráficos [muestras, estimación, varianza de estimación]."
   ]
  },
  {
   "cell_type": "markdown",
   "metadata": {},
   "source": [
    "-------------------------------------------------------------------------------------------------------------------------------"
   ]
  },
  {
   "cell_type": "markdown",
   "metadata": {},
   "source": [
    "**Bibliotecas**"
   ]
  },
  {
   "cell_type": "code",
   "execution_count": 1,
   "metadata": {},
   "outputs": [],
   "source": [
    "import numpy as np\n",
    "import pandas as pd\n",
    "import matplotlib.pyplot as plt\n",
    "import geostatspy.GSLIB as GSLIB # Utilidades GSLIB y funciones envueltas.\n",
    "from mpl_toolkits.mplot3d import Axes3D\n",
    "import geostatspy.geostats as geostats\n",
    "plt.style.use('ggplot')\n",
    "%matplotlib inline"
   ]
  },
  {
   "cell_type": "markdown",
   "metadata": {},
   "source": [
    "## 1.- Lectura de dataset de nombre «prueba_curso_geopython»"
   ]
  },
  {
   "cell_type": "code",
   "execution_count": 2,
   "metadata": {},
   "outputs": [],
   "source": [
    "folder = \"C:/Users/DDA_CDEA/Desktop/Daniel_Eduardo/Excel-stuff_and_programming/Programming-exercises/Python_programming/Curso_geoPython/dataset_curso/\"\n",
    "file = \"prueba_curso_geopython.txt\"\n",
    "\n",
    "df = pd.read_csv(folder + file, sep=\"\\t\", skiprows=[0,1,2,3,4,5,6,7,8,9], header=None)"
   ]
  },
  {
   "cell_type": "code",
   "execution_count": 3,
   "metadata": {},
   "outputs": [
    {
     "data": {
      "text/html": [
       "<div>\n",
       "<style scoped>\n",
       "    .dataframe tbody tr th:only-of-type {\n",
       "        vertical-align: middle;\n",
       "    }\n",
       "\n",
       "    .dataframe tbody tr th {\n",
       "        vertical-align: top;\n",
       "    }\n",
       "\n",
       "    .dataframe thead th {\n",
       "        text-align: right;\n",
       "    }\n",
       "</style>\n",
       "<table border=\"1\" class=\"dataframe\">\n",
       "  <thead>\n",
       "    <tr style=\"text-align: right;\">\n",
       "      <th></th>\n",
       "      <th>0</th>\n",
       "      <th>1</th>\n",
       "      <th>2</th>\n",
       "      <th>3</th>\n",
       "      <th>4</th>\n",
       "      <th>5</th>\n",
       "    </tr>\n",
       "  </thead>\n",
       "  <tbody>\n",
       "    <tr>\n",
       "      <th>0</th>\n",
       "      <td>1</td>\n",
       "      <td>200</td>\n",
       "      <td>200</td>\n",
       "      <td>75</td>\n",
       "      <td>1</td>\n",
       "      <td>0.113597</td>\n",
       "    </tr>\n",
       "    <tr>\n",
       "      <th>1</th>\n",
       "      <td>1</td>\n",
       "      <td>200</td>\n",
       "      <td>200</td>\n",
       "      <td>80</td>\n",
       "      <td>2</td>\n",
       "      <td>0.402376</td>\n",
       "    </tr>\n",
       "    <tr>\n",
       "      <th>2</th>\n",
       "      <td>1</td>\n",
       "      <td>200</td>\n",
       "      <td>200</td>\n",
       "      <td>85</td>\n",
       "      <td>3</td>\n",
       "      <td>0.738256</td>\n",
       "    </tr>\n",
       "    <tr>\n",
       "      <th>3</th>\n",
       "      <td>1</td>\n",
       "      <td>200</td>\n",
       "      <td>200</td>\n",
       "      <td>90</td>\n",
       "      <td>4</td>\n",
       "      <td>0.788436</td>\n",
       "    </tr>\n",
       "    <tr>\n",
       "      <th>4</th>\n",
       "      <td>1</td>\n",
       "      <td>200</td>\n",
       "      <td>200</td>\n",
       "      <td>95</td>\n",
       "      <td>5</td>\n",
       "      <td>0.774902</td>\n",
       "    </tr>\n",
       "  </tbody>\n",
       "</table>\n",
       "</div>"
      ],
      "text/plain": [
       "   0    1    2   3  4         5\n",
       "0  1  200  200  75  1  0.113597\n",
       "1  1  200  200  80  2  0.402376\n",
       "2  1  200  200  85  3  0.738256\n",
       "3  1  200  200  90  4  0.788436\n",
       "4  1  200  200  95  5  0.774902"
      ]
     },
     "execution_count": 3,
     "metadata": {},
     "output_type": "execute_result"
    }
   ],
   "source": [
    "df.head()"
   ]
  },
  {
   "cell_type": "code",
   "execution_count": 4,
   "metadata": {},
   "outputs": [
    {
     "data": {
      "text/plain": [
       "(1080, 6)"
      ]
     },
     "execution_count": 4,
     "metadata": {},
     "output_type": "execute_result"
    }
   ],
   "source": [
    "df.shape"
   ]
  },
  {
   "cell_type": "code",
   "execution_count": 5,
   "metadata": {},
   "outputs": [
    {
     "data": {
      "text/html": [
       "<div>\n",
       "<style scoped>\n",
       "    .dataframe tbody tr th:only-of-type {\n",
       "        vertical-align: middle;\n",
       "    }\n",
       "\n",
       "    .dataframe tbody tr th {\n",
       "        vertical-align: top;\n",
       "    }\n",
       "\n",
       "    .dataframe thead th {\n",
       "        text-align: right;\n",
       "    }\n",
       "</style>\n",
       "<table border=\"1\" class=\"dataframe\">\n",
       "  <thead>\n",
       "    <tr style=\"text-align: right;\">\n",
       "      <th></th>\n",
       "      <th>ID Sondaje</th>\n",
       "      <th>Este [X]</th>\n",
       "      <th>Norte [Y]</th>\n",
       "      <th>Cota [Z]</th>\n",
       "      <th>Ley Cu [%]</th>\n",
       "    </tr>\n",
       "  </thead>\n",
       "  <tbody>\n",
       "    <tr>\n",
       "      <th>0</th>\n",
       "      <td>1</td>\n",
       "      <td>200</td>\n",
       "      <td>200</td>\n",
       "      <td>75</td>\n",
       "      <td>0.113597</td>\n",
       "    </tr>\n",
       "    <tr>\n",
       "      <th>1</th>\n",
       "      <td>1</td>\n",
       "      <td>200</td>\n",
       "      <td>200</td>\n",
       "      <td>80</td>\n",
       "      <td>0.402376</td>\n",
       "    </tr>\n",
       "    <tr>\n",
       "      <th>2</th>\n",
       "      <td>1</td>\n",
       "      <td>200</td>\n",
       "      <td>200</td>\n",
       "      <td>85</td>\n",
       "      <td>0.738256</td>\n",
       "    </tr>\n",
       "    <tr>\n",
       "      <th>3</th>\n",
       "      <td>1</td>\n",
       "      <td>200</td>\n",
       "      <td>200</td>\n",
       "      <td>90</td>\n",
       "      <td>0.788436</td>\n",
       "    </tr>\n",
       "    <tr>\n",
       "      <th>4</th>\n",
       "      <td>1</td>\n",
       "      <td>200</td>\n",
       "      <td>200</td>\n",
       "      <td>95</td>\n",
       "      <td>0.774902</td>\n",
       "    </tr>\n",
       "    <tr>\n",
       "      <th>5</th>\n",
       "      <td>1</td>\n",
       "      <td>200</td>\n",
       "      <td>200</td>\n",
       "      <td>100</td>\n",
       "      <td>0.998138</td>\n",
       "    </tr>\n",
       "    <tr>\n",
       "      <th>6</th>\n",
       "      <td>1</td>\n",
       "      <td>200</td>\n",
       "      <td>200</td>\n",
       "      <td>105</td>\n",
       "      <td>0.865264</td>\n",
       "    </tr>\n",
       "    <tr>\n",
       "      <th>7</th>\n",
       "      <td>1</td>\n",
       "      <td>200</td>\n",
       "      <td>200</td>\n",
       "      <td>110</td>\n",
       "      <td>1.020720</td>\n",
       "    </tr>\n",
       "    <tr>\n",
       "      <th>8</th>\n",
       "      <td>1</td>\n",
       "      <td>200</td>\n",
       "      <td>200</td>\n",
       "      <td>115</td>\n",
       "      <td>1.468390</td>\n",
       "    </tr>\n",
       "    <tr>\n",
       "      <th>9</th>\n",
       "      <td>1</td>\n",
       "      <td>200</td>\n",
       "      <td>200</td>\n",
       "      <td>120</td>\n",
       "      <td>1.178550</td>\n",
       "    </tr>\n",
       "  </tbody>\n",
       "</table>\n",
       "</div>"
      ],
      "text/plain": [
       "   ID Sondaje  Este [X]  Norte [Y]  Cota [Z]  Ley Cu [%]\n",
       "0           1       200        200        75    0.113597\n",
       "1           1       200        200        80    0.402376\n",
       "2           1       200        200        85    0.738256\n",
       "3           1       200        200        90    0.788436\n",
       "4           1       200        200        95    0.774902\n",
       "5           1       200        200       100    0.998138\n",
       "6           1       200        200       105    0.865264\n",
       "7           1       200        200       110    1.020720\n",
       "8           1       200        200       115    1.468390\n",
       "9           1       200        200       120    1.178550"
      ]
     },
     "execution_count": 5,
     "metadata": {},
     "output_type": "execute_result"
    }
   ],
   "source": [
    "data = {\"ID Sondaje\":df[0], \"Este [X]\":df[1], \"Norte [Y]\":df[2], \"Cota [Z]\":df[3], \"Ley Cu [%]\":df[5]}\n",
    "df = pd.DataFrame(data)\n",
    "df.head(n=10)"
   ]
  },
  {
   "cell_type": "code",
   "execution_count": 6,
   "metadata": {},
   "outputs": [
    {
     "data": {
      "text/html": [
       "<div>\n",
       "<style scoped>\n",
       "    .dataframe tbody tr th:only-of-type {\n",
       "        vertical-align: middle;\n",
       "    }\n",
       "\n",
       "    .dataframe tbody tr th {\n",
       "        vertical-align: top;\n",
       "    }\n",
       "\n",
       "    .dataframe thead th {\n",
       "        text-align: right;\n",
       "    }\n",
       "</style>\n",
       "<table border=\"1\" class=\"dataframe\">\n",
       "  <thead>\n",
       "    <tr style=\"text-align: right;\">\n",
       "      <th></th>\n",
       "      <th>count</th>\n",
       "      <th>mean</th>\n",
       "      <th>std</th>\n",
       "      <th>min</th>\n",
       "      <th>25%</th>\n",
       "      <th>50%</th>\n",
       "      <th>75%</th>\n",
       "      <th>max</th>\n",
       "    </tr>\n",
       "  </thead>\n",
       "  <tbody>\n",
       "    <tr>\n",
       "      <th>ID Sondaje</th>\n",
       "      <td>1080.0</td>\n",
       "      <td>45.500000</td>\n",
       "      <td>25.991194</td>\n",
       "      <td>1.000000</td>\n",
       "      <td>23.000000</td>\n",
       "      <td>45.50000</td>\n",
       "      <td>68.00000</td>\n",
       "      <td>90.00000</td>\n",
       "    </tr>\n",
       "    <tr>\n",
       "      <th>Este [X]</th>\n",
       "      <td>1080.0</td>\n",
       "      <td>425.000000</td>\n",
       "      <td>143.680600</td>\n",
       "      <td>200.000000</td>\n",
       "      <td>300.000000</td>\n",
       "      <td>425.00000</td>\n",
       "      <td>550.00000</td>\n",
       "      <td>650.00000</td>\n",
       "    </tr>\n",
       "    <tr>\n",
       "      <th>Norte [Y]</th>\n",
       "      <td>1080.0</td>\n",
       "      <td>400.000000</td>\n",
       "      <td>129.159255</td>\n",
       "      <td>200.000000</td>\n",
       "      <td>300.000000</td>\n",
       "      <td>400.00000</td>\n",
       "      <td>500.00000</td>\n",
       "      <td>600.00000</td>\n",
       "    </tr>\n",
       "    <tr>\n",
       "      <th>Cota [Z]</th>\n",
       "      <td>1080.0</td>\n",
       "      <td>102.500000</td>\n",
       "      <td>17.268259</td>\n",
       "      <td>75.000000</td>\n",
       "      <td>88.750000</td>\n",
       "      <td>102.50000</td>\n",
       "      <td>116.25000</td>\n",
       "      <td>130.00000</td>\n",
       "    </tr>\n",
       "    <tr>\n",
       "      <th>Ley Cu [%]</th>\n",
       "      <td>1080.0</td>\n",
       "      <td>1.111156</td>\n",
       "      <td>0.487569</td>\n",
       "      <td>0.016985</td>\n",
       "      <td>0.760585</td>\n",
       "      <td>1.06118</td>\n",
       "      <td>1.41183</td>\n",
       "      <td>2.96329</td>\n",
       "    </tr>\n",
       "  </tbody>\n",
       "</table>\n",
       "</div>"
      ],
      "text/plain": [
       "             count        mean         std         min         25%        50%  \\\n",
       "ID Sondaje  1080.0   45.500000   25.991194    1.000000   23.000000   45.50000   \n",
       "Este [X]    1080.0  425.000000  143.680600  200.000000  300.000000  425.00000   \n",
       "Norte [Y]   1080.0  400.000000  129.159255  200.000000  300.000000  400.00000   \n",
       "Cota [Z]    1080.0  102.500000   17.268259   75.000000   88.750000  102.50000   \n",
       "Ley Cu [%]  1080.0    1.111156    0.487569    0.016985    0.760585    1.06118   \n",
       "\n",
       "                  75%        max  \n",
       "ID Sondaje   68.00000   90.00000  \n",
       "Este [X]    550.00000  650.00000  \n",
       "Norte [Y]   500.00000  600.00000  \n",
       "Cota [Z]    116.25000  130.00000  \n",
       "Ley Cu [%]    1.41183    2.96329  "
      ]
     },
     "execution_count": 6,
     "metadata": {},
     "output_type": "execute_result"
    }
   ],
   "source": [
    "df.describe().transpose()"
   ]
  },
  {
   "cell_type": "markdown",
   "metadata": {},
   "source": [
    "## 2.- Visualización la variable en el plano, con respectivas etiquetas y mapa de colores"
   ]
  },
  {
   "cell_type": "code",
   "execution_count": 7,
   "metadata": {},
   "outputs": [],
   "source": [
    "x = np.array(df[\"Este [X]\"])\n",
    "y = np.array(df[\"Norte [Y]\"])\n",
    "z = np.array(df[\"Cota [Z]\"])\n",
    "cu = np.array(df[\"Ley Cu [%]\"])"
   ]
  },
  {
   "cell_type": "code",
   "execution_count": 8,
   "metadata": {},
   "outputs": [
    {
     "data": {
      "text/plain": [
       "1080"
      ]
     },
     "execution_count": 8,
     "metadata": {},
     "output_type": "execute_result"
    }
   ],
   "source": [
    "len(cu)"
   ]
  },
  {
   "cell_type": "code",
   "execution_count": 9,
   "metadata": {},
   "outputs": [
    {
     "data": {
      "image/png": "[encoded data removed]",
      "text/plain": [
       "<Figure size 576x432 with 2 Axes>"
      ]
     },
     "metadata": {
      "needs_background": "light"
     },
     "output_type": "display_data"
    }
   ],
   "source": [
    "marker_size = 30\n",
    "plt.figure(figsize=(8,6))\n",
    "plt.scatter(x,y, marker_size, cu, cmap=plt.cm.Blues)\n",
    "plt.grid(True)\n",
    "plt.xlabel(\"Este [X]\"), plt.ylabel(\"Norte [Y]\")\n",
    "plt.title(\"Visualización de la variable en el plano\")\n",
    "cbar=plt.colorbar()\n",
    "cbar.set_label('Cu [%]',labelpad=+1)\n",
    "plt.show()"
   ]
  },
  {
   "cell_type": "markdown",
   "metadata": {},
   "source": [
    "## 3.- Cálculo de media, mediana, moda, varianza, desviación estándar, coeficiente de variación, factor de asimetría y curtosis de la variable de interés: *En este caso, la variable de interés en el dataset en estudio es la Ley de Cobre [%]*"
   ]
  },
  {
   "cell_type": "code",
   "execution_count": 10,
   "metadata": {},
   "outputs": [
    {
     "name": "stdout",
     "output_type": "stream",
     "text": [
      "La media de la Ley de Cobre es: 1.11\n"
     ]
    }
   ],
   "source": [
    "# Media\n",
    "print(\"La media de la Ley de Cobre es:\", round(df[\"Ley Cu [%]\"].mean(), 2))"
   ]
  },
  {
   "cell_type": "code",
   "execution_count": 11,
   "metadata": {},
   "outputs": [
    {
     "name": "stdout",
     "output_type": "stream",
     "text": [
      "La mediana de la Ley de Cobre es: 1.06\n"
     ]
    }
   ],
   "source": [
    "# Mediana\n",
    "print(\"La mediana de la Ley de Cobre es:\", round(df[\"Ley Cu [%]\"].median(), 2))"
   ]
  },
  {
   "cell_type": "code",
   "execution_count": 12,
   "metadata": {},
   "outputs": [
    {
     "name": "stdout",
     "output_type": "stream",
     "text": [
      "La moda de la Ley de Cobre es:\n",
      " 0    0.8\n",
      "1    1.3\n",
      "dtype: float64\n"
     ]
    }
   ],
   "source": [
    "# Moda\n",
    "print(\"La moda de la Ley de Cobre es:\\n\",round(df[\"Ley Cu [%]\"].mode(), 2))"
   ]
  },
  {
   "cell_type": "code",
   "execution_count": 13,
   "metadata": {},
   "outputs": [
    {
     "name": "stdout",
     "output_type": "stream",
     "text": [
      "La varianza de la Ley de Cobre es: 0.24\n"
     ]
    }
   ],
   "source": [
    "# Varianza\n",
    "print(\"La varianza de la Ley de Cobre es:\",round(df[\"Ley Cu [%]\"].var(), 2))"
   ]
  },
  {
   "cell_type": "code",
   "execution_count": 14,
   "metadata": {},
   "outputs": [
    {
     "name": "stdout",
     "output_type": "stream",
     "text": [
      "La desviación estándar de la Ley de Cobre es: 0.49\n"
     ]
    }
   ],
   "source": [
    "# Desviación estándar\n",
    "std_d = np.sqrt(df[\"Ley Cu [%]\"].var())\n",
    "print(\"La desviación estándar de la Ley de Cobre es:\",round(std_d, 2))"
   ]
  },
  {
   "cell_type": "code",
   "execution_count": 15,
   "metadata": {},
   "outputs": [
    {
     "name": "stdout",
     "output_type": "stream",
     "text": [
      "El coeficiente de variación de la Ley de Cobre es: 43.88\n"
     ]
    }
   ],
   "source": [
    "# coeficiente de variación\n",
    "var_coef = (std_d/df[\"Ley Cu [%]\"].mean())*100\n",
    "print(\"El coeficiente de variación de la Ley de Cobre es:\",round(var_coef, 2))"
   ]
  },
  {
   "cell_type": "code",
   "execution_count": 16,
   "metadata": {},
   "outputs": [
    {
     "name": "stdout",
     "output_type": "stream",
     "text": [
      "El factor de simetría de la Ley de Cobre es: 0.53\n"
     ]
    }
   ],
   "source": [
    "# Factor de simetría o skewness\n",
    "print(\"El factor de simetría de la Ley de Cobre es:\",round(df[\"Ley Cu [%]\"].skew(),2))"
   ]
  },
  {
   "cell_type": "markdown",
   "metadata": {},
   "source": [
    "*Como se puede ver arriba, el factor de simetría (o skewness) es positivo. Esto quiere decir que la distribución de los datos está hacia la derecha, i.e., los datos no están balanceados. Sin embargo, aunque no estén completamente balanceados, parecen tener un buen balance dado que el skewness es cercano a cero*"
   ]
  },
  {
   "cell_type": "code",
   "execution_count": 17,
   "metadata": {},
   "outputs": [
    {
     "name": "stdout",
     "output_type": "stream",
     "text": [
      "La curtosis de la Ley de Cobre es: 0.26\n"
     ]
    }
   ],
   "source": [
    "# Curtosis\n",
    "print(\"La curtosis de la Ley de Cobre es:\",round(df[\"Ley Cu [%]\"].kurt(),2))"
   ]
  },
  {
   "cell_type": "code",
   "execution_count": null,
   "metadata": {},
   "outputs": [],
   "source": []
  },
  {
   "cell_type": "markdown",
   "metadata": {},
   "source": [
    "## 4.- Gráfico de derivas [x-variable], [y-variable]."
   ]
  },
  {
   "cell_type": "markdown",
   "metadata": {},
   "source": [
    "*Nos interesa conocer el comportamiento de la variable \"Cu\" a distintas distancias de los ejes mencionados.* **En nuestro caso, utilizando únicamente las librerias antes importadas, es que requerimos crear algunos DataFrames:**"
   ]
  },
  {
   "cell_type": "code",
   "execution_count": 18,
   "metadata": {},
   "outputs": [
    {
     "data": {
      "text/html": [
       "<div>\n",
       "<style scoped>\n",
       "    .dataframe tbody tr th:only-of-type {\n",
       "        vertical-align: middle;\n",
       "    }\n",
       "\n",
       "    .dataframe tbody tr th {\n",
       "        vertical-align: top;\n",
       "    }\n",
       "\n",
       "    .dataframe thead th {\n",
       "        text-align: right;\n",
       "    }\n",
       "</style>\n",
       "<table border=\"1\" class=\"dataframe\">\n",
       "  <thead>\n",
       "    <tr style=\"text-align: right;\">\n",
       "      <th></th>\n",
       "      <th>from</th>\n",
       "      <th>to</th>\n",
       "      <th>Cu [%]</th>\n",
       "    </tr>\n",
       "  </thead>\n",
       "  <tbody>\n",
       "    <tr>\n",
       "      <th>0</th>\n",
       "      <td>200</td>\n",
       "      <td>250</td>\n",
       "      <td>NaN</td>\n",
       "    </tr>\n",
       "    <tr>\n",
       "      <th>1</th>\n",
       "      <td>250</td>\n",
       "      <td>300</td>\n",
       "      <td>NaN</td>\n",
       "    </tr>\n",
       "    <tr>\n",
       "      <th>2</th>\n",
       "      <td>300</td>\n",
       "      <td>350</td>\n",
       "      <td>NaN</td>\n",
       "    </tr>\n",
       "    <tr>\n",
       "      <th>3</th>\n",
       "      <td>350</td>\n",
       "      <td>400</td>\n",
       "      <td>NaN</td>\n",
       "    </tr>\n",
       "    <tr>\n",
       "      <th>4</th>\n",
       "      <td>400</td>\n",
       "      <td>450</td>\n",
       "      <td>NaN</td>\n",
       "    </tr>\n",
       "    <tr>\n",
       "      <th>5</th>\n",
       "      <td>450</td>\n",
       "      <td>500</td>\n",
       "      <td>NaN</td>\n",
       "    </tr>\n",
       "    <tr>\n",
       "      <th>6</th>\n",
       "      <td>500</td>\n",
       "      <td>550</td>\n",
       "      <td>NaN</td>\n",
       "    </tr>\n",
       "    <tr>\n",
       "      <th>7</th>\n",
       "      <td>550</td>\n",
       "      <td>600</td>\n",
       "      <td>NaN</td>\n",
       "    </tr>\n",
       "    <tr>\n",
       "      <th>8</th>\n",
       "      <td>600</td>\n",
       "      <td>650</td>\n",
       "      <td>NaN</td>\n",
       "    </tr>\n",
       "  </tbody>\n",
       "</table>\n",
       "</div>"
      ],
      "text/plain": [
       "   from   to  Cu [%]\n",
       "0   200  250     NaN\n",
       "1   250  300     NaN\n",
       "2   300  350     NaN\n",
       "3   350  400     NaN\n",
       "4   400  450     NaN\n",
       "5   450  500     NaN\n",
       "6   500  550     NaN\n",
       "7   550  600     NaN\n",
       "8   600  650     NaN"
      ]
     },
     "execution_count": 18,
     "metadata": {},
     "output_type": "execute_result"
    }
   ],
   "source": [
    "# Matriz Este - Cu\n",
    "df_new_x = pd.DataFrame({\"from\":list(range(200,601,50)), \"to\":list(range(250,651,50)), \"Cu [%]\":np.nan})\n",
    "df_new_x"
   ]
  },
  {
   "cell_type": "markdown",
   "metadata": {},
   "source": [
    "Debemos calcular la ley media en cada una de las ventanas creadas (50 metros):"
   ]
  },
  {
   "cell_type": "code",
   "execution_count": 19,
   "metadata": {},
   "outputs": [
    {
     "name": "stdout",
     "output_type": "stream",
     "text": [
      "ax = 1.4728400092592593 \n",
      " bx = 1.5014024138888888 \n",
      " cx = 1.3322831388888896 \n",
      " dx = 1.2377657592592588 \n",
      " ex = 1.0948337111111113 \n",
      " fx = 0.8646881148148148 \n",
      " gx = 0.8044589407407409 \n",
      " hx = 0.8496130462962964 \n",
      " ix = 0.9363100648148147\n"
     ]
    }
   ],
   "source": [
    "a = df[(df['Este [X]'] >= 200) & (df['Este [X]'] < 250)].mean() # Cu media entre 0 y <50 metros del eje X [ventana 1]\n",
    "b = df[(df['Este [X]'] >= 250) & (df['Este [X]'] < 300)].mean()\n",
    "c = df[(df['Este [X]'] >= 300) & (df['Este [X]'] < 350)].mean()\n",
    "d = df[(df['Este [X]'] >= 350) & (df['Este [X]'] < 400)].mean()\n",
    "e = df[(df['Este [X]'] >= 400) & (df['Este [X]'] < 450)].mean()\n",
    "f = df[(df['Este [X]'] >= 450) & (df['Este [X]'] < 500)].mean()\n",
    "g = df[(df['Este [X]'] >= 500) & (df['Este [X]'] < 550)].mean()\n",
    "h = df[(df['Este [X]'] >= 550) & (df['Este [X]'] < 600)].mean()\n",
    "i = df[(df['Este [X]'] >= 600) & (df['Este [X]'] < 650)].mean()\n",
    "# las nx son las leyes medias de Cu para cada ventana del eje 'X', recordar que la longitud por ventana es de 50 m\n",
    "ax = a[\"Ley Cu [%]\"]\n",
    "bx = b[\"Ley Cu [%]\"]\n",
    "cx = c[\"Ley Cu [%]\"]\n",
    "dx = d[\"Ley Cu [%]\"]\n",
    "ex = e[\"Ley Cu [%]\"]\n",
    "fx = f[\"Ley Cu [%]\"]\n",
    "gx = g[\"Ley Cu [%]\"]\n",
    "hx = h[\"Ley Cu [%]\"]\n",
    "ix = i[\"Ley Cu [%]\"]\n",
    "print(\"ax =\",ax,'\\n',\"bx =\",bx,'\\n',\"cx =\",cx,'\\n',\"dx =\",dx,'\\n',\"ex =\",ex,'\\n',\"fx =\",fx,'\\n',\"gx =\",gx,'\\n',\"hx =\",hx,'\\n',\"ix =\",ix)"
   ]
  },
  {
   "cell_type": "markdown",
   "metadata": {},
   "source": [
    "*Ahora pasaremos nuestras leyes al nuevo DataFrame*"
   ]
  },
  {
   "cell_type": "code",
   "execution_count": 20,
   "metadata": {},
   "outputs": [],
   "source": [
    "df_new_x['Cu [%]'] = [ax, bx, cx, dx, ex, fx, gx, hx, ix]"
   ]
  },
  {
   "cell_type": "markdown",
   "metadata": {},
   "source": [
    "*Antes de graficar, crearemos una nueva columna con el promedio de \"from - to\":*"
   ]
  },
  {
   "cell_type": "code",
   "execution_count": 21,
   "metadata": {},
   "outputs": [
    {
     "data": {
      "text/html": [
       "<div>\n",
       "<style scoped>\n",
       "    .dataframe tbody tr th:only-of-type {\n",
       "        vertical-align: middle;\n",
       "    }\n",
       "\n",
       "    .dataframe tbody tr th {\n",
       "        vertical-align: top;\n",
       "    }\n",
       "\n",
       "    .dataframe thead th {\n",
       "        text-align: right;\n",
       "    }\n",
       "</style>\n",
       "<table border=\"1\" class=\"dataframe\">\n",
       "  <thead>\n",
       "    <tr style=\"text-align: right;\">\n",
       "      <th></th>\n",
       "      <th>from</th>\n",
       "      <th>to</th>\n",
       "      <th>Cu [%]</th>\n",
       "      <th>promxy</th>\n",
       "    </tr>\n",
       "  </thead>\n",
       "  <tbody>\n",
       "    <tr>\n",
       "      <th>0</th>\n",
       "      <td>200</td>\n",
       "      <td>250</td>\n",
       "      <td>1.472840</td>\n",
       "      <td>225</td>\n",
       "    </tr>\n",
       "    <tr>\n",
       "      <th>1</th>\n",
       "      <td>250</td>\n",
       "      <td>300</td>\n",
       "      <td>1.501402</td>\n",
       "      <td>275</td>\n",
       "    </tr>\n",
       "    <tr>\n",
       "      <th>2</th>\n",
       "      <td>300</td>\n",
       "      <td>350</td>\n",
       "      <td>1.332283</td>\n",
       "      <td>325</td>\n",
       "    </tr>\n",
       "    <tr>\n",
       "      <th>3</th>\n",
       "      <td>350</td>\n",
       "      <td>400</td>\n",
       "      <td>1.237766</td>\n",
       "      <td>375</td>\n",
       "    </tr>\n",
       "    <tr>\n",
       "      <th>4</th>\n",
       "      <td>400</td>\n",
       "      <td>450</td>\n",
       "      <td>1.094834</td>\n",
       "      <td>425</td>\n",
       "    </tr>\n",
       "    <tr>\n",
       "      <th>5</th>\n",
       "      <td>450</td>\n",
       "      <td>500</td>\n",
       "      <td>0.864688</td>\n",
       "      <td>475</td>\n",
       "    </tr>\n",
       "    <tr>\n",
       "      <th>6</th>\n",
       "      <td>500</td>\n",
       "      <td>550</td>\n",
       "      <td>0.804459</td>\n",
       "      <td>525</td>\n",
       "    </tr>\n",
       "    <tr>\n",
       "      <th>7</th>\n",
       "      <td>550</td>\n",
       "      <td>600</td>\n",
       "      <td>0.849613</td>\n",
       "      <td>575</td>\n",
       "    </tr>\n",
       "    <tr>\n",
       "      <th>8</th>\n",
       "      <td>600</td>\n",
       "      <td>650</td>\n",
       "      <td>0.936310</td>\n",
       "      <td>625</td>\n",
       "    </tr>\n",
       "  </tbody>\n",
       "</table>\n",
       "</div>"
      ],
      "text/plain": [
       "   from   to    Cu [%]  promxy\n",
       "0   200  250  1.472840     225\n",
       "1   250  300  1.501402     275\n",
       "2   300  350  1.332283     325\n",
       "3   350  400  1.237766     375\n",
       "4   400  450  1.094834     425\n",
       "5   450  500  0.864688     475\n",
       "6   500  550  0.804459     525\n",
       "7   550  600  0.849613     575\n",
       "8   600  650  0.936310     625"
      ]
     },
     "execution_count": 21,
     "metadata": {},
     "output_type": "execute_result"
    }
   ],
   "source": [
    "df_new_x['promxy'] = df_new_x['to'] - 25\n",
    "df_new_x.head(9)"
   ]
  },
  {
   "cell_type": "markdown",
   "metadata": {},
   "source": [
    "**Grafiquemos la deriva [Este vs Cu]**"
   ]
  },
  {
   "cell_type": "code",
   "execution_count": 22,
   "metadata": {},
   "outputs": [
    {
     "data": {
      "image/png": "[encoded data removed]",
      "text/plain": [
       "<Figure size 576x432 with 1 Axes>"
      ]
     },
     "metadata": {
      "needs_background": "light"
     },
     "output_type": "display_data"
    }
   ],
   "source": [
    "plt.figure(figsize=(8,6))\n",
    "plt.plot(df_new_x['promxy'], df_new_x['Cu [%]'])\n",
    "plt.xlabel('Este [X]'), plt.ylabel('Cu [%]')\n",
    "plt.title('Deriva Este [X] vs Cobre [%]')\n",
    "plt.show()"
   ]
  },
  {
   "cell_type": "markdown",
   "metadata": {},
   "source": [
    "*Ahora, determinaremos la deriva correspondiente al Norte [Y] - Ley de Cobre [%]*"
   ]
  },
  {
   "cell_type": "code",
   "execution_count": 23,
   "metadata": {},
   "outputs": [
    {
     "data": {
      "text/html": [
       "<div>\n",
       "<style scoped>\n",
       "    .dataframe tbody tr th:only-of-type {\n",
       "        vertical-align: middle;\n",
       "    }\n",
       "\n",
       "    .dataframe tbody tr th {\n",
       "        vertical-align: top;\n",
       "    }\n",
       "\n",
       "    .dataframe thead th {\n",
       "        text-align: right;\n",
       "    }\n",
       "</style>\n",
       "<table border=\"1\" class=\"dataframe\">\n",
       "  <thead>\n",
       "    <tr style=\"text-align: right;\">\n",
       "      <th></th>\n",
       "      <th>from</th>\n",
       "      <th>to</th>\n",
       "      <th>Cu [%]</th>\n",
       "    </tr>\n",
       "  </thead>\n",
       "  <tbody>\n",
       "    <tr>\n",
       "      <th>0</th>\n",
       "      <td>200</td>\n",
       "      <td>250</td>\n",
       "      <td>NaN</td>\n",
       "    </tr>\n",
       "    <tr>\n",
       "      <th>1</th>\n",
       "      <td>250</td>\n",
       "      <td>300</td>\n",
       "      <td>NaN</td>\n",
       "    </tr>\n",
       "    <tr>\n",
       "      <th>2</th>\n",
       "      <td>300</td>\n",
       "      <td>350</td>\n",
       "      <td>NaN</td>\n",
       "    </tr>\n",
       "    <tr>\n",
       "      <th>3</th>\n",
       "      <td>350</td>\n",
       "      <td>400</td>\n",
       "      <td>NaN</td>\n",
       "    </tr>\n",
       "    <tr>\n",
       "      <th>4</th>\n",
       "      <td>400</td>\n",
       "      <td>450</td>\n",
       "      <td>NaN</td>\n",
       "    </tr>\n",
       "    <tr>\n",
       "      <th>5</th>\n",
       "      <td>450</td>\n",
       "      <td>500</td>\n",
       "      <td>NaN</td>\n",
       "    </tr>\n",
       "    <tr>\n",
       "      <th>6</th>\n",
       "      <td>500</td>\n",
       "      <td>550</td>\n",
       "      <td>NaN</td>\n",
       "    </tr>\n",
       "    <tr>\n",
       "      <th>7</th>\n",
       "      <td>550</td>\n",
       "      <td>600</td>\n",
       "      <td>NaN</td>\n",
       "    </tr>\n",
       "  </tbody>\n",
       "</table>\n",
       "</div>"
      ],
      "text/plain": [
       "   from   to  Cu [%]\n",
       "0   200  250     NaN\n",
       "1   250  300     NaN\n",
       "2   300  350     NaN\n",
       "3   350  400     NaN\n",
       "4   400  450     NaN\n",
       "5   450  500     NaN\n",
       "6   500  550     NaN\n",
       "7   550  600     NaN"
      ]
     },
     "execution_count": 23,
     "metadata": {},
     "output_type": "execute_result"
    }
   ],
   "source": [
    "# Matriz Norte - Cu\n",
    "df_new_y = pd.DataFrame({\"from\":list(range(200,551,50)), \"to\":list(range(250,601,50)), \"Cu [%]\":np.nan})\n",
    "df_new_y"
   ]
  },
  {
   "cell_type": "code",
   "execution_count": 24,
   "metadata": {},
   "outputs": [
    {
     "name": "stdout",
     "output_type": "stream",
     "text": [
      "ay = 0.9768125833333331 \n",
      " by = 1.0797048224999999 \n",
      " cy = 1.0355179833333332 \n",
      " dy = 1.0227566583333338 \n",
      " ey = 1.1847504333333334 \n",
      " fy = 1.3243598083333332 \n",
      " gy = 1.265382091666666 \n",
      " hy = 1.1322722866666668\n"
     ]
    }
   ],
   "source": [
    "a = df[(df['Norte [Y]'] >= 200) & (df['Norte [Y]'] < 250)].mean() # Cu media entre 0 y <50 metros del eje X [ventana 1]\n",
    "b = df[(df['Norte [Y]'] >= 250) & (df['Norte [Y]'] < 300)].mean()\n",
    "c = df[(df['Norte [Y]'] >= 300) & (df['Norte [Y]'] < 350)].mean()\n",
    "d = df[(df['Norte [Y]'] >= 350) & (df['Norte [Y]'] < 400)].mean()\n",
    "e = df[(df['Norte [Y]'] >= 400) & (df['Norte [Y]'] < 450)].mean()\n",
    "f = df[(df['Norte [Y]'] >= 450) & (df['Norte [Y]'] < 500)].mean()\n",
    "g = df[(df['Norte [Y]'] >= 500) & (df['Norte [Y]'] < 550)].mean()\n",
    "h = df[(df['Norte [Y]'] >= 550) & (df['Norte [Y]'] < 600)].mean()\n",
    "# las nx son las leyes medias de Cu para cada ventana del eje 'X', recordar que la longitud por ventana es de 50 m\n",
    "ay = a[\"Ley Cu [%]\"]\n",
    "by = b[\"Ley Cu [%]\"]\n",
    "cy = c[\"Ley Cu [%]\"]\n",
    "dy = d[\"Ley Cu [%]\"]\n",
    "ey = e[\"Ley Cu [%]\"]\n",
    "fy = f[\"Ley Cu [%]\"]\n",
    "gy = g[\"Ley Cu [%]\"]\n",
    "hy = h[\"Ley Cu [%]\"]\n",
    "print(\"ay =\",ay,'\\n',\"by =\",by,'\\n',\"cy =\",cy,'\\n',\"dy =\",dy,'\\n',\"ey =\",ey,'\\n',\"fy =\",fy,'\\n',\"gy =\",gy,'\\n',\"hy =\",hy)"
   ]
  },
  {
   "cell_type": "markdown",
   "metadata": {},
   "source": [
    "*Al igual que lo hecho anteriormente, creamos una columna con el promedio de \"from-to\"*"
   ]
  },
  {
   "cell_type": "code",
   "execution_count": 25,
   "metadata": {},
   "outputs": [
    {
     "data": {
      "text/html": [
       "<div>\n",
       "<style scoped>\n",
       "    .dataframe tbody tr th:only-of-type {\n",
       "        vertical-align: middle;\n",
       "    }\n",
       "\n",
       "    .dataframe tbody tr th {\n",
       "        vertical-align: top;\n",
       "    }\n",
       "\n",
       "    .dataframe thead th {\n",
       "        text-align: right;\n",
       "    }\n",
       "</style>\n",
       "<table border=\"1\" class=\"dataframe\">\n",
       "  <thead>\n",
       "    <tr style=\"text-align: right;\">\n",
       "      <th></th>\n",
       "      <th>from</th>\n",
       "      <th>to</th>\n",
       "      <th>Cu [%]</th>\n",
       "      <th>promxy</th>\n",
       "    </tr>\n",
       "  </thead>\n",
       "  <tbody>\n",
       "    <tr>\n",
       "      <th>0</th>\n",
       "      <td>200</td>\n",
       "      <td>250</td>\n",
       "      <td>0.976813</td>\n",
       "      <td>225</td>\n",
       "    </tr>\n",
       "    <tr>\n",
       "      <th>1</th>\n",
       "      <td>250</td>\n",
       "      <td>300</td>\n",
       "      <td>1.079705</td>\n",
       "      <td>275</td>\n",
       "    </tr>\n",
       "    <tr>\n",
       "      <th>2</th>\n",
       "      <td>300</td>\n",
       "      <td>350</td>\n",
       "      <td>1.035518</td>\n",
       "      <td>325</td>\n",
       "    </tr>\n",
       "    <tr>\n",
       "      <th>3</th>\n",
       "      <td>350</td>\n",
       "      <td>400</td>\n",
       "      <td>1.022757</td>\n",
       "      <td>375</td>\n",
       "    </tr>\n",
       "    <tr>\n",
       "      <th>4</th>\n",
       "      <td>400</td>\n",
       "      <td>450</td>\n",
       "      <td>1.184750</td>\n",
       "      <td>425</td>\n",
       "    </tr>\n",
       "    <tr>\n",
       "      <th>5</th>\n",
       "      <td>450</td>\n",
       "      <td>500</td>\n",
       "      <td>1.324360</td>\n",
       "      <td>475</td>\n",
       "    </tr>\n",
       "    <tr>\n",
       "      <th>6</th>\n",
       "      <td>500</td>\n",
       "      <td>550</td>\n",
       "      <td>1.265382</td>\n",
       "      <td>525</td>\n",
       "    </tr>\n",
       "    <tr>\n",
       "      <th>7</th>\n",
       "      <td>550</td>\n",
       "      <td>600</td>\n",
       "      <td>1.132272</td>\n",
       "      <td>575</td>\n",
       "    </tr>\n",
       "  </tbody>\n",
       "</table>\n",
       "</div>"
      ],
      "text/plain": [
       "   from   to    Cu [%]  promxy\n",
       "0   200  250  0.976813     225\n",
       "1   250  300  1.079705     275\n",
       "2   300  350  1.035518     325\n",
       "3   350  400  1.022757     375\n",
       "4   400  450  1.184750     425\n",
       "5   450  500  1.324360     475\n",
       "6   500  550  1.265382     525\n",
       "7   550  600  1.132272     575"
      ]
     },
     "execution_count": 25,
     "metadata": {},
     "output_type": "execute_result"
    }
   ],
   "source": [
    "df_new_y['Cu [%]'] = [ay, by, cy, dy, ey, fy, gy, hy]\n",
    "df_new_y['promxy'] = df_new_y['to'] - 25\n",
    "df_new_y.head(8)"
   ]
  },
  {
   "cell_type": "markdown",
   "metadata": {},
   "source": [
    "**Gráfica la deriva [Norte vs Cu]**"
   ]
  },
  {
   "cell_type": "code",
   "execution_count": 26,
   "metadata": {},
   "outputs": [
    {
     "data": {
      "image/png": "[encoded data removed]",
      "text/plain": [
       "<Figure size 576x432 with 1 Axes>"
      ]
     },
     "metadata": {
      "needs_background": "light"
     },
     "output_type": "display_data"
    }
   ],
   "source": [
    "plt.figure(figsize=(8,6))\n",
    "plt.plot(df_new_y['promxy'], df_new_y['Cu [%]'])\n",
    "plt.xlabel('Norte [Y]'), plt.ylabel('Cu [%]')\n",
    "plt.title('Deriva Norte [Y] vs Cobre [%]')\n",
    "plt.show()"
   ]
  },
  {
   "cell_type": "markdown",
   "metadata": {},
   "source": [
    "## 5.- Gráfica de histograma simple, acumulado, cajas y bigotes."
   ]
  },
  {
   "cell_type": "markdown",
   "metadata": {},
   "source": [
    "*Histograma simple*"
   ]
  },
  {
   "cell_type": "code",
   "execution_count": 27,
   "metadata": {},
   "outputs": [
    {
     "data": {
      "image/png": "[encoded data removed]",
      "text/plain": [
       "<Figure size 576x432 with 1 Axes>"
      ]
     },
     "metadata": {
      "needs_background": "light"
     },
     "output_type": "display_data"
    }
   ],
   "source": [
    "plt.figure(figsize=(8,6))\n",
    "plt.hist(df['Ley Cu [%]'], alpha=.2, edgecolor = 'black', bins = 'sturges', color = 'blue', label = 'Cu') \n",
    "plt.xlabel('Ley de Cobre [%]')\n",
    "plt.ylabel('Frequency')\n",
    "plt.title(' Histogram Leyes de Cu')\n",
    "plt.legend()\n",
    "plt.show()"
   ]
  },
  {
   "cell_type": "markdown",
   "metadata": {},
   "source": [
    "*Histograma acumulado*"
   ]
  },
  {
   "cell_type": "code",
   "execution_count": 28,
   "metadata": {},
   "outputs": [
    {
     "data": {
      "image/png": "[encoded data removed]",
      "text/plain": [
       "<Figure size 576x432 with 1 Axes>"
      ]
     },
     "metadata": {
      "needs_background": "light"
     },
     "output_type": "display_data"
    }
   ],
   "source": [
    "plt.figure(figsize=(8,6))\n",
    "plt.hist(df['Ley Cu [%]'], alpha=.2, edgecolor = 'black', bins = 100, color = 'blue', label = 'Cu', cumulative=True) \n",
    "plt.xlabel('Ley de Cobre [%]')\n",
    "plt.ylabel('Frequency')\n",
    "plt.title(' Histogram Leyes de Cu')\n",
    "plt.legend()\n",
    "plt.show()"
   ]
  },
  {
   "cell_type": "markdown",
   "metadata": {},
   "source": [
    "*Diagrama de cajas y bigotes*"
   ]
  },
  {
   "cell_type": "code",
   "execution_count": 29,
   "metadata": {},
   "outputs": [
    {
     "data": {
      "image/png": "[encoded data removed]",
      "text/plain": [
       "<Figure size 576x432 with 1 Axes>"
      ]
     },
     "metadata": {
      "needs_background": "light"
     },
     "output_type": "display_data"
    }
   ],
   "source": [
    "diamantes = dict(markerfacecolor = 'g', marker = 'D')\n",
    "plt.figure(figsize=(8,6))\n",
    "plt.boxplot(df[\"Ley Cu [%]\"], vert = False,  flierprops = diamantes, showfliers = True)\n",
    "plt.xlabel('Ley de Cobre [%]')\n",
    "plt.title(' Diagrama de cajas y bigotes Leyes de Cu')\n",
    "plt.show()"
   ]
  },
  {
   "cell_type": "markdown",
   "metadata": {},
   "source": [
    "## 6.- Variograma – [PyKrige]"
   ]
  },
  {
   "cell_type": "markdown",
   "metadata": {},
   "source": [
    "**Bibliotecas para el uso de PyKrige**"
   ]
  },
  {
   "cell_type": "code",
   "execution_count": 30,
   "metadata": {},
   "outputs": [],
   "source": [
    "import pykrige\n",
    "import pykrige.kriging_tools as kt\n",
    "from pykrige.ok import OrdinaryKriging"
   ]
  },
  {
   "cell_type": "code",
   "execution_count": 31,
   "metadata": {},
   "outputs": [
    {
     "name": "stdout",
     "output_type": "stream",
     "text": [
      "Plotting Enabled\n",
      "\n",
      "Adjusting data for anisotropy...\n",
      "Initializing variogram model...\n",
      "Coordinates type: 'euclidean' \n",
      "\n",
      "Using 'gaussian' Variogram Model\n",
      "Partial Sill: 0.12584010373869597\n",
      "Full Sill: 0.2727617445705192\n",
      "Range: 348.59960065709765\n",
      "Nugget: 0.14692164083182324 \n",
      "\n"
     ]
    },
    {
     "data": {
      "image/png": "[encoded data removed]",
      "text/plain": [
       "<Figure size 432x288 with 1 Axes>"
      ]
     },
     "metadata": {
      "needs_background": "light"
     },
     "output_type": "display_data"
    },
    {
     "name": "stdout",
     "output_type": "stream",
     "text": [
      "Calculating statistics on variogram model fit...\n"
     ]
    }
   ],
   "source": [
    "Ordinary_Krig = OrdinaryKriging(x,y,cu, variogram_model='gaussian', nlags=20,enable_plotting=True,verbose=True)"
   ]
  },
  {
   "cell_type": "markdown",
   "metadata": {},
   "source": [
    "## 7.- Crear grilla referente a los limites del modelo con celdas de tamaño seleccionadas por el estudiante."
   ]
  },
  {
   "cell_type": "code",
   "execution_count": 32,
   "metadata": {},
   "outputs": [],
   "source": [
    "import os"
   ]
  },
  {
   "cell_type": "code",
   "execution_count": 33,
   "metadata": {},
   "outputs": [],
   "source": [
    "# cambio de directorio\n",
    "os.chdir('C:/Users/DDA_CDEA/Desktop/Daniel_Eduardo/Excel-stuff_and_programming/Programming-exercises/Python_programming/Curso_geoPython/Unidad IV. Análisis Estructural/GSLIB_PYTHON')"
   ]
  },
  {
   "cell_type": "code",
   "execution_count": 34,
   "metadata": {},
   "outputs": [
    {
     "data": {
      "text/plain": [
       "(1080, 5)"
      ]
     },
     "execution_count": 34,
     "metadata": {},
     "output_type": "execute_result"
    }
   ],
   "source": [
    "cu_np = df.values # Transforma un DataFrame de pandas en un numpy array\n",
    "cu_np.shape"
   ]
  },
  {
   "cell_type": "code",
   "execution_count": 35,
   "metadata": {},
   "outputs": [],
   "source": [
    "nx = 70; ny = 70;"
   ]
  },
  {
   "cell_type": "code",
   "execution_count": 36,
   "metadata": {},
   "outputs": [],
   "source": [
    "# utilidad para convertir archivos GSLIB Geo-EAS en una ndarray numpy para usar con métodos Python\n",
    "def GSLIB2ndarray(data_file,kcol,nx,ny):\n",
    "    import os\n",
    "    import numpy as np  \n",
    "\n",
    "    colArray = []\n",
    "    if ny > 1:\n",
    "        array = np.ndarray(shape=(ny,nx),dtype=float,order='F')\n",
    "    else:\n",
    "        array = np.zeros(nx)\n",
    "        \n",
    "    with open(data_file) as myfile:  \n",
    "        head = [next(myfile) for x in range(2)]\n",
    "        line2 = head[1].split()\n",
    "        ncol = int(line2[0])          \n",
    "        for icol in range(0, ncol):   \n",
    "            head = [next(myfile) for x in range(1)]\n",
    "            if icol == kcol:\n",
    "                col_name = head[0].split()[0]\n",
    "        for iy in range(0,ny):\n",
    "            for ix in range(0,nx):\n",
    "                head = [next(myfile) for x in range(1)]\n",
    "                array[ny-1-iy][ix] = head[0].split()[kcol]\n",
    "    return array,col_name"
   ]
  },
  {
   "cell_type": "code",
   "execution_count": 37,
   "metadata": {},
   "outputs": [],
   "source": [
    "# utilidad para convertir matriz numpy en un archivo Geo-EAS GSLIB para usar con métodos GSLIB  \n",
    "def ndarray2GSLIB(array,data_file,col_name):\n",
    "    file_out = open(data_file, \"w\")\n",
    "    file_out.write(data_file + '\\n')  \n",
    "    file_out.write('1 \\n')  \n",
    "    file_out.write(col_name  + '\\n') \n",
    "    if array.ndim == 2:\n",
    "        ny = (array.shape[0])\n",
    "        nx = (array.shape[1])\n",
    "        ncol = 1\n",
    "        for iy in range(0, ny):\n",
    "            for ix in range(0, nx):\n",
    "                file_out.write(str(array[ny-1-iy,ix])+ '\\n')        \n",
    "    elif array.ndim == 1:\n",
    "        nx = len(array)        \n",
    "        for ix in range(0, nx):\n",
    "            file_out.write(str(array[ix])+ '\\n')             \n",
    "    else:       \n",
    "        Print(\"Error: must use a 2D array\")            \n",
    "        file_out.close()\n",
    "        return            \n",
    "    file_out.close()"
   ]
  },
  {
   "cell_type": "code",
   "execution_count": 38,
   "metadata": {},
   "outputs": [],
   "source": [
    "# Transformación normal. \n",
    "def nscore(x):\n",
    "    import os\n",
    "    import numpy as np\n",
    "    file = 'nscore_out.dat'\n",
    "    ndarray2GSLIB(x,\"nscore.dat\",\"value\")\n",
    "    \n",
    "    file = open(\"nscore.par\", \"w\")\n",
    "    file.write(\"                  Parameters for NSCORE                                    \\n\")\n",
    "    file.write(\"                  *********************                                    \\n\")\n",
    "    file.write(\"                                                                           \\n\")\n",
    "    file.write(\"START OF PARAMETERS:                                                       \\n\")\n",
    "    file.write(\"nscore.dat           -file with data                                       \\n\")\n",
    "    file.write(\"1   0                    -  columns for variable and weight                \\n\")\n",
    "    file.write(\"-1.0e21   1.0e21         -  trimming limits                                \\n\")\n",
    "    file.write(\"0                        -1=transform according to specified ref. dist.    \\n\")\n",
    "    file.write(\"../histsmth/histsmth.out -  file with reference dist.                      \\n\")\n",
    "    file.write(\"1   2                    -  columns for variable and weight                \\n\")\n",
    "    file.write(\"nscore.out               -file for output                                  \\n\")\n",
    "    file.write(\"nscore.trn               -file for output transformation table             \\n\")\n",
    "    file.close()\n",
    "\n",
    "    os.system('nscore.exe nscore.par')\n",
    "    file_in = 'nscore.out'\n",
    "    y,name = GSLIB2ndarray('nscore.out',1,nx,ny)\n",
    "    return(y)"
   ]
  },
  {
   "cell_type": "code",
   "execution_count": 39,
   "metadata": {},
   "outputs": [],
   "source": [
    "# gráfico de píxeles, reimplementación en Python de GSLIB pixelplt con métodos MatPlotLib\n",
    "def pixelplt(array,xmin,xmax,ymin,ymax,step,vmin,vmax,title,xlabel,ylabel,vlabel,cmap):\n",
    "    xx, yy = np.meshgrid(np.arange(xmin, xmax, step),np.arange(ymax, ymin, -1*step))\n",
    "    plt.figure(figsize=(8,6))\n",
    "    im = plt.contourf(xx,yy,array,cmap=cmap,vmin=vmin,vmax=vmax,levels=np.linspace(vmin,vmax,100))\n",
    "    plt.title(title)\n",
    "    plt.xlabel(xlabel)\n",
    "    plt.ylabel(ylabel)\n",
    "    cbar = plt.colorbar(im,orientation = 'vertical',ticks=np.linspace(vmin,vmax,10))\n",
    "    cbar.set_label(vlabel, rotation=270, labelpad=20)\n",
    "    plt.show()\n",
    "    return im"
   ]
  },
  {
   "cell_type": "code",
   "execution_count": 40,
   "metadata": {},
   "outputs": [],
   "source": [
    "cu_nscore_np = GSLIB.nscore(np.asarray(df[\"Ley Cu [%]\"]))"
   ]
  },
  {
   "cell_type": "code",
   "execution_count": 41,
   "metadata": {},
   "outputs": [],
   "source": [
    "nscore_np = nscore(cu_np)"
   ]
  },
  {
   "cell_type": "code",
   "execution_count": 42,
   "metadata": {},
   "outputs": [
    {
     "data": {
      "text/plain": [
       "(70, 70)"
      ]
     },
     "execution_count": 42,
     "metadata": {},
     "output_type": "execute_result"
    }
   ],
   "source": [
    "nscore_np.shape"
   ]
  },
  {
   "cell_type": "code",
   "execution_count": 43,
   "metadata": {},
   "outputs": [
    {
     "data": {
      "image/png": "[encoded data removed]",
      "text/plain": [
       "<Figure size 576x432 with 1 Axes>"
      ]
     },
     "metadata": {
      "needs_background": "light"
     },
     "output_type": "display_data"
    }
   ],
   "source": [
    "plt.figure(figsize=(8,6))\n",
    "plt.hist(nscore_np.flatten(), alpha=.2, edgecolor = 'black', bins = \"sturges\", color = 'blue', label = 'Cu') \n",
    "plt.xlabel('Elemento [X] Transformado')\n",
    "plt.ylabel('Frequency')\n",
    "plt.title(\"Dataset del Elemento [X] transformado\")\n",
    "plt.legend()\n",
    "plt.show()"
   ]
  },
  {
   "cell_type": "code",
   "execution_count": 44,
   "metadata": {},
   "outputs": [],
   "source": [
    "nx = 100; ny = 100; cell_size = 10                              # número y tamaño de la celdas\n",
    "xmin = 200; ymin = 200                                              # origen de la grilla\n",
    "xmax = xmin + nx*cell_size; ymax = ymin + ny*cell_size   \n"
   ]
  },
  {
   "cell_type": "code",
   "execution_count": 45,
   "metadata": {},
   "outputs": [],
   "source": [
    "# regular spaced data, 2D wrapper for varmap from GSLIB (.exe must be in working directory)\n",
    "def varmap_2d(array,nx,ny,hsiz,nlagx,nlagy,minpairs,vmax,bstand,title,vlabel):\n",
    "    import os\n",
    "    import numpy as np\n",
    "     \n",
    "    ndarray2GSLIB(array,\"varmap_out.dat\",\"gam.dat\")\n",
    "    \n",
    "    file = open(\"varmap.par\", \"w\")\n",
    "    \n",
    "    file.write(\"              Parameters for VARMAP                                        \\n\")\n",
    "    file.write(\"              *********************                                        \\n\")\n",
    "    file.write(\"                                                                           \\n\")\n",
    "    file.write(\"START OF PARAMETERS:                                                       \\n\")\n",
    "    file.write(\"varmap_out.dat          -file with data                                    \\n\")\n",
    "    file.write(\"1   1                        -   number of variables: column numbers       \\n\")\n",
    "    file.write(\"-1.0e21     1.0e21           -   trimming limits                           \\n\")\n",
    "    file.write(\"1                            -1=regular grid, 0=scattered values           \\n\")\n",
    "    file.write(str(nx) + \" \" + str(ny) + \" 1  -if =1: nx,     ny,   nz                     \\n\")\n",
    "    file.write(str(hsiz) + \" \" + str(hsiz) + \" 1.0  - xsiz, ysiz, zsiz                     \\n\") \n",
    "    file.write(\"1   2   0                    -if =0: columns for x,y, z coordinates        \\n\") \n",
    "    file.write(\"varmap.out                   -file for variogram output                    \\n\")\n",
    "    file.write(str(nlagx) + \" \" + str(nlagy) + \" 0 \" + \"-nxlag, nylag, nzlag               \\n\")\n",
    "    file.write(str(hsiz) + \" \" + str(hsiz) + \" 1.0              -dxlag, dylag, dzlag       \\n\")\n",
    "    file.write(str(minpairs) + \"             -minimum number of pairs                      \\n\")\n",
    "    file.write(str(bstand) + \"               -standardize sill? (0=no, 1=yes)              \\n\")\n",
    "    file.write(\"1                            -number of variograms                         \\n\") \n",
    "    file.write(\"1   1   1                    -tail, head, variogram type                   \\n\")\n",
    "    file.close()\n",
    "    \n",
    "    os.system('varmap.exe varmap.par')\n",
    "    nnx = nlagx*2+1; nny = nlagy*2+1\n",
    "    varmap, name = GSLIB2ndarray(\"varmap.out\",0,nnx,nny)               \n",
    "          \n",
    "    xmax = ((float(nlagx)+0.5)*hsiz); xmin = -1*xmax; \n",
    "    ymax = ((float(nlagy)+0.5)*hsiz); ymin = -1*ymax; \n",
    "    pixelplt(varmap,xmin,xmax,ymin,ymax,hsiz,0,vmax,title,'X','Y',vlabel,cmap)\n",
    "    return(varmap)"
   ]
  },
  {
   "cell_type": "code",
   "execution_count": 46,
   "metadata": {},
   "outputs": [
    {
     "data": {
      "text/plain": [
       "3.73841"
      ]
     },
     "execution_count": 46,
     "metadata": {},
     "output_type": "execute_result"
    }
   ],
   "source": [
    "np.max(nscore_np)"
   ]
  },
  {
   "cell_type": "code",
   "execution_count": 47,
   "metadata": {},
   "outputs": [],
   "source": [
    "df[\"NCu\"] = cu_nscore_np"
   ]
  },
  {
   "cell_type": "code",
   "execution_count": 48,
   "metadata": {},
   "outputs": [
    {
     "data": {
      "image/png": "[encoded data removed]",
      "text/plain": [
       "<Figure size 576x432 with 2 Axes>"
      ]
     },
     "metadata": {
      "needs_background": "light"
     },
     "output_type": "display_data"
    }
   ],
   "source": [
    "cmap = plt.cm.Blues\n",
    "GSLIB.locmap(df, xcol=\"Este [X]\",ycol=\"Norte [Y]\",vcol=\"NCu\",xmin=190,xmax=660,ymin=190,ymax=610,\n",
    "             vmin=0,vmax=3,title=\"Visualización de la variable en el plano\",\n",
    "             xlabel=\"Este [X]\",ylabel=\"Norte [Y]\",vlabel=\"Cu [%]\",cmap=cmap,fig_name=\"Var_\")\n",
    "plt.show()"
   ]
  },
  {
   "cell_type": "code",
   "execution_count": 108,
   "metadata": {},
   "outputs": [
    {
     "data": {
      "image/png": "[encoded data removed]",
      "text/plain": [
       "<Figure size 576x432 with 2 Axes>"
      ]
     },
     "metadata": {
      "needs_background": "light"
     },
     "output_type": "display_data"
    }
   ],
   "source": [
    "nlagx = 5; nlagy = 5; minpairs = 1; bstand = 1\n",
    "vmax = 3.7; cmap = plt.cm.plasma                       # color min, color max y mapa de colores para visualización\n",
    "\n",
    "cu_varmap = varmap_2d(nscore_np,70,70,20,nlagx,nlagy,minpairs,vmax,bstand,\"Mapa variográfico nscore_np\",\"variograma\")"
   ]
  },
  {
   "cell_type": "markdown",
   "metadata": {},
   "source": [
    "**Variograma experimental malla 2D:** *Regular*"
   ]
  },
  {
   "cell_type": "code",
   "execution_count": 50,
   "metadata": {},
   "outputs": [],
   "source": [
    "def gam_2d(array,nx,ny,hsiz,nlag,xlag,ylag,bstand):\n",
    "    import os\n",
    "    import numpy as np\n",
    "    \n",
    "    lag = []; gamma = []; npair = []\n",
    "    \n",
    "    ndarray2GSLIB(array,\"gam_out.dat\",\"gam.dat\")\n",
    "    \n",
    "    file = open(\"gam.par\", \"w\")\n",
    "    file.write(\"                  Parameters for GAM                                       \\n\")\n",
    "    file.write(\"                  ******************                                       \\n\")\n",
    "    file.write(\"                                                                           \\n\")\n",
    "    file.write(\"START OF PARAMETERS:                                                       \\n\")\n",
    "    file.write(\"gam_out.dat           -file with data                                      \\n\")\n",
    "    file.write(\"1   1   0             -   number of variables, column numbers              \\n\")\n",
    "    file.write(\"-1.0e21     1.0e21    -   trimming limits                                  \\n\")\n",
    "    file.write(\"gam.out               -file for variogram output                           \\n\")\n",
    "    file.write(\"1                     -grid or realization number                          \\n\")\n",
    "    file.write(str(nx) + \" 0.0 \" + str(hsiz) + \"  -nx, xmn, xsiz                           \\n\")\n",
    "    file.write(str(ny) + \" 0.0 \" + str(hsiz) + \"  -ny, ymn, ysiz                           \\n\")\n",
    "    file.write(\" 1   0.5   1.0        -nz, zmn, zsiz                                       \\n\")\n",
    "    file.write(\"1 \" + str(nlag) + \"   -number of directions, number of lags                \\n\")\n",
    "    file.write(str(xlag) + \" \" + str(ylag) + \" 0 -ixd(1),iyd(1),izd(1)                     \\n\")\n",
    "    file.write(\"1                     -standardize sill? (0=no, 1=yes)                     \\n\")\n",
    "    file.write(\"1                     -number of variograms                                \\n\")\n",
    "    file.write(\"1   1   1             -tail variable, head variable, variogram type        \\n\") \n",
    "    file.close()\n",
    "    \n",
    "    os.system('gam.exe gam.par')\n",
    "    reading = True\n",
    "    with open(\"gam.out\") as myfile:   \n",
    "        head = [next(myfile) for x in range(1)] # skip the first line\n",
    "        iline = 0\n",
    "        while reading:\n",
    "            try:\n",
    "                head = [next(myfile) for x in range(1)]\n",
    "                lag.append(float(head[0].split()[1]))\n",
    "                gamma.append(float(head[0].split()[2]))\n",
    "                npair.append(float(head[0].split()[3]))\n",
    "                iline = iline + 1\n",
    "            except StopIteration:\n",
    "                reading = False   \n",
    "    \n",
    "    return(lag,gamma,npair)"
   ]
  },
  {
   "cell_type": "code",
   "execution_count": 51,
   "metadata": {},
   "outputs": [],
   "source": [
    "def vargplts(lag,gamma,npair,vtype,name,xmin,xmax,ymin,ymax,sill,title,cmap):\n",
    "    plt.figure(figsize=(8,6))\n",
    "    marker = [\"o\",\"v\",\"s\",\"h\",\"^\",\">\",\"<\"]\n",
    "    nvar = lags.shape[0]\n",
    "    for ivar in range(0, nvar):\n",
    "        if vtype[ivar]==0:\n",
    "            im = plt.scatter(lag[ivar],gamma[ivar],s=None,label = name[ivar],c=npair[ivar], marker=marker[ivar], cmap=cmap, norm=None, alpha=0.8, linewidths=0.8, verts=None, edgecolors=\"black\")\n",
    "        else:\n",
    "            plt.plot(lag[ivar],gamma[ivar], 'C3', lw=3,c='black')\n",
    "    ixy = 0 \n",
    "    plt.title(title)\n",
    "    plt.xlim(xmin,xmax)\n",
    "    plt.ylim(ymin,ymax)    \n",
    "    plt.xlabel('Lag Distance (m)')\n",
    "    plt.ylabel('Variogram')\n",
    "    plt.arrow(0,sill,xmax,0,width=0.002,color='red',head_length=0.0,head_width=0.0)\n",
    "    plt.legend(loc = 'lower right')\n",
    "    cbar = plt.colorbar(im, orientation = 'vertical')\n",
    "    cbar.set_label('Number of Pairs', rotation=270, labelpad=20)\n",
    "    plt.show()\n",
    "    return im"
   ]
  },
  {
   "cell_type": "code",
   "execution_count": 94,
   "metadata": {},
   "outputs": [],
   "source": [
    "# xlag = 1; ylag = 0 # Esto calcularía los variogramas desde x e y\n",
    "lag_x, gamma_x, npair_x = gam_2d(nscore_np,70,70,20,nlag=35,xlag=1,ylag=0,bstand=1) "
   ]
  },
  {
   "cell_type": "code",
   "execution_count": 95,
   "metadata": {},
   "outputs": [
    {
     "data": {
      "text/plain": [
       "[0.76319,\n",
       " 1.64594,\n",
       " 1.65504,\n",
       " 0.75578,\n",
       " 0.0298,\n",
       " 0.76526,\n",
       " 1.64501,\n",
       " 1.65793,\n",
       " 0.75717,\n",
       " 0.04365,\n",
       " 0.76528,\n",
       " 1.64212,\n",
       " 1.66096,\n",
       " 0.7556,\n",
       " 0.05316,\n",
       " 0.76625,\n",
       " 1.64085,\n",
       " 1.66455,\n",
       " 0.75772,\n",
       " 0.06119,\n",
       " 0.76431,\n",
       " 1.63778,\n",
       " 1.66479,\n",
       " 0.75774,\n",
       " 0.06646,\n",
       " 0.76331,\n",
       " 1.63294,\n",
       " 1.65942,\n",
       " 0.75878,\n",
       " 0.06615,\n",
       " 0.76256,\n",
       " 1.63674,\n",
       " 1.66318,\n",
       " 0.76099,\n",
       " 0.06582]"
      ]
     },
     "execution_count": 95,
     "metadata": {},
     "output_type": "execute_result"
    }
   ],
   "source": [
    "gamma_x"
   ]
  },
  {
   "cell_type": "markdown",
   "metadata": {},
   "source": [
    "*nlag + 10 = 80 (sólo para ver luego en el gráfico el variograma 0° azimuth con mayor extensión que el de 90°)*"
   ]
  },
  {
   "cell_type": "code",
   "execution_count": 96,
   "metadata": {},
   "outputs": [],
   "source": [
    "lag_y, gamma_y, npair_y = gam_2d(nscore_np,70,70,20,nlag=45,xlag=0,ylag=1,bstand=1) "
   ]
  },
  {
   "cell_type": "markdown",
   "metadata": {},
   "source": [
    "*Ahora combinaremos para pasar a una lista de matrices Numpy y posteriormente realizar el plot:*"
   ]
  },
  {
   "cell_type": "code",
   "execution_count": 97,
   "metadata": {},
   "outputs": [],
   "source": [
    "lags = np.array([lag_x, lag_y])\n",
    "gammas = np.array([gamma_x, gamma_y])\n",
    "npairs = np.array([npair_x, npair_y])"
   ]
  },
  {
   "cell_type": "markdown",
   "metadata": {},
   "source": [
    "*Indicaremos que los 2 variogramas son experimentales (tanto el de 0° azimuth como el de 90° azimuth)*"
   ]
  },
  {
   "cell_type": "code",
   "execution_count": 98,
   "metadata": {},
   "outputs": [],
   "source": [
    "vtypes = [0,0]\n",
    "names = [\"Azimuth 90°\", \"Azimuth 0°\"]"
   ]
  },
  {
   "cell_type": "code",
   "execution_count": 99,
   "metadata": {},
   "outputs": [
    {
     "data": {
      "image/png": "[encoded data removed]",
      "text/plain": [
       "<Figure size 576x432 with 2 Axes>"
      ]
     },
     "metadata": {
      "needs_background": "light"
     },
     "output_type": "display_data"
    }
   ],
   "source": [
    "vargplts(lags, gammas, npairs, vtypes, names, 0, 600, 0, 1.5, 1, \"Variograma Elemento [x]\", cmap)\n",
    "plt.show() "
   ]
  },
  {
   "cell_type": "markdown",
   "metadata": {},
   "source": [
    "*Haremos un variograma experimental aplicado a un modelo teórico esférico*"
   ]
  },
  {
   "cell_type": "code",
   "execution_count": 58,
   "metadata": {},
   "outputs": [],
   "source": [
    "def vmodel_2d(nlag,step,azi,nug,nst,tstr1,c1,azi1,rmaj1,rmin1,tstr2=1,c2=0,azi2=0,rmaj2=0,rmin2=0):\n",
    "    import os\n",
    "    import numpy as np\n",
    "\n",
    "    lag = []; gamma = []\n",
    "    \n",
    "    file = open(\"vmodel.par\", \"w\")\n",
    "    file.write(\"                                                                           \\n\")\n",
    "    file.write(\"                  Parameters for VMODEL                                    \\n\")\n",
    "    file.write(\"                  *********************                                    \\n\")\n",
    "    file.write(\"                                                                           \\n\")\n",
    "    file.write(\"START OF PARAMETERS:                                                       \\n\")\n",
    "    file.write(\"vmodel.var                   -file for variogram output                    \\n\")\n",
    "    file.write(\"1 \" + str(nlag) + \"          -number of directions and lags                \\n\")\n",
    "    file.write(str(azi) + \" 0.0 \" + str(step) + \" -azm, dip, lag distance                  \\n\")\n",
    "    file.write(str(nst) + \" \" + str(nug) + \" -nst, nugget effect                           \\n\")\n",
    "    file.write(str(tstr1) + \" \" + str(c1) + \" \" + str(azi1) + \" 0.0   0.0   0.0 -it,cc,ang1,ang2,ang3 \\n\")\n",
    "    file.write(str(rmaj1) + \" \" + str(rmin1) + \" 0.0 -a_hmax, a_hmin, a_vert               \\n\")\n",
    "    file.write(str(tstr2) + \" \" + str(c2) + \" \" + str(azi2) + \" 0.0   0.0   0.0 -it,cc,ang1,ang2,ang3 \\n\")\n",
    "    file.write(str(rmaj2) + \" \" + str(rmin2) + \" 0.0 -a_hmax, a_hmin, a_vert               \\n\")\n",
    "    file.close()\n",
    "    \n",
    "    os.system('vmodel.exe vmodel.par')\n",
    "    reading = True\n",
    "    with open(\"vmodel.var\") as myfile:   \n",
    "        head = [next(myfile) for x in range(1)] # skip the first line\n",
    "        iline = 0\n",
    "        while reading:\n",
    "            try:\n",
    "                head = [next(myfile) for x in range(1)]\n",
    "                lag.append(float(head[0].split()[1]))\n",
    "                gamma.append(float(head[0].split()[2]))\n",
    "                iline = iline + 1\n",
    "            except StopIteration:\n",
    "                reading = False   \n",
    "    \n",
    "    return(lag,gamma)"
   ]
  },
  {
   "cell_type": "code",
   "execution_count": 59,
   "metadata": {},
   "outputs": [],
   "source": [
    "# tstr1=1 (modelo esférico)\n",
    "# tstr1=2 (modelo exponencial)\n",
    "# tstr1=3 (modelo gaussiano)\n",
    "\n",
    "azi = 90;\n",
    "rmaj = 500; # Alcance en el eje mayor \n",
    "rmin = 300; # Alcance en el eje menor\n",
    "\n",
    "lag_x_mod,gamma_x_mod = vmodel_2d(nlag=70,step=10,azi=90,nug=0,nst=1,tstr1=1,c1=1,azi1=0,rmaj1=rmaj,rmin1=rmin)\n",
    "\n",
    "lag_y_mod,gamma_y_mod = vmodel_2d(nlag=70,step=10,azi=0,nug=0,nst=1,tstr1=1,c1=1,azi1=azi,rmaj1=rmaj,rmin1=rmin)"
   ]
  },
  {
   "cell_type": "markdown",
   "metadata": {},
   "source": [
    "*Para visualizar el variograma, debemos crear primero unas matrices numpy y posteriormente a ello, utilizar una función ya conocida* **\"vargplts\"**"
   ]
  },
  {
   "cell_type": "code",
   "execution_count": 60,
   "metadata": {},
   "outputs": [
    {
     "data": {
      "image/png": "[encoded data removed]",
      "text/plain": [
       "<Figure size 576x432 with 2 Axes>"
      ]
     },
     "metadata": {
      "needs_background": "light"
     },
     "output_type": "display_data"
    }
   ],
   "source": [
    "lags = np.array([lag_x, lag_y, lag_x_mod, lag_y_mod])\n",
    "gammas = np.array([gamma_x, gamma_y, gamma_x_mod, gamma_y_mod])\n",
    "npairs = np.array([npair_x, npair_y])\n",
    "vtypes = [0,0,1,1]\n",
    "names = [\"Azimuth 90°\", \"Azimuth 0°\"]\n",
    "\n",
    "vargplts(lags,gammas,npairs,vtypes,names,0,820,0,1.5,1,\"Variograma Esférico para dataset sin NSCORE\",cmap)\n",
    "plt.show()"
   ]
  },
  {
   "cell_type": "markdown",
   "metadata": {},
   "source": [
    "## 8.- Generación de estimación mediante Kriging Ordinario, obteniendo además varianza de estimación."
   ]
  },
  {
   "cell_type": "markdown",
   "metadata": {},
   "source": [
    "**Discretizamos el área**"
   ]
  },
  {
   "cell_type": "code",
   "execution_count": 61,
   "metadata": {},
   "outputs": [],
   "source": [
    "grid_x = np.linspace(200, 660, num=46, endpoint=False)\n",
    "grid_y = np.linspace(200, 610, num=41, endpoint=False)\n",
    "grid_z = np.linspace(75, 135, num=12, endpoint=False)"
   ]
  },
  {
   "cell_type": "code",
   "execution_count": 62,
   "metadata": {},
   "outputs": [],
   "source": [
    "yg, xg = np.meshgrid(grid_y, grid_x, indexing='ij')"
   ]
  },
  {
   "cell_type": "code",
   "execution_count": 63,
   "metadata": {},
   "outputs": [
    {
     "data": {
      "text/plain": [
       "(41, 46)"
      ]
     },
     "execution_count": 63,
     "metadata": {},
     "output_type": "execute_result"
    }
   ],
   "source": [
    "yg.shape"
   ]
  },
  {
   "cell_type": "code",
   "execution_count": 64,
   "metadata": {},
   "outputs": [
    {
     "name": "stdout",
     "output_type": "stream",
     "text": [
      "Executing Ordinary Kriging...\n",
      "\n"
     ]
    }
   ],
   "source": [
    "z, ss = Ordinary_Krig.execute('grid', grid_x, grid_y) # Estimación de kriging ordinario en (z) y varianza de estimación de Ordinary Kriging en ss"
   ]
  },
  {
   "cell_type": "code",
   "execution_count": 65,
   "metadata": {},
   "outputs": [],
   "source": [
    "kt.write_asc_grid(grid_x, grid_y, z, filename=\"kriging_ordinario.asc\") # pasaremos grid_x, grig_y, z y un nombre de salida para el archivo\n",
    "kt.write_asc_grid(grid_x, grid_y, ss, filename=\"kriging_ordinario_var.asc\")"
   ]
  },
  {
   "cell_type": "code",
   "execution_count": 66,
   "metadata": {},
   "outputs": [],
   "source": [
    "asc = pd.read_csv(\"kriging_ordinario.asc\", header=None, skiprows=7, sep=\"\\s+\")\n",
    "asc1 = pd.read_csv(\"kriging_ordinario_var.asc\", header=None, skiprows=7, sep=\"\\s+\")"
   ]
  },
  {
   "cell_type": "code",
   "execution_count": 67,
   "metadata": {},
   "outputs": [
    {
     "data": {
      "text/plain": [
       "(41, 46)"
      ]
     },
     "execution_count": 67,
     "metadata": {},
     "output_type": "execute_result"
    }
   ],
   "source": [
    "asc.shape"
   ]
  },
  {
   "cell_type": "code",
   "execution_count": 68,
   "metadata": {},
   "outputs": [
    {
     "data": {
      "text/plain": [
       "(41, 46)"
      ]
     },
     "execution_count": 68,
     "metadata": {},
     "output_type": "execute_result"
    }
   ],
   "source": [
    "asc1.shape"
   ]
  },
  {
   "cell_type": "markdown",
   "metadata": {},
   "source": [
    "**Transformaremos este DataFrame en una matriz Numpy**"
   ]
  },
  {
   "cell_type": "code",
   "execution_count": 69,
   "metadata": {},
   "outputs": [],
   "source": [
    "cu2 = np.array(asc) # conversión a ndarray: estimación ley Cu"
   ]
  },
  {
   "cell_type": "code",
   "execution_count": 70,
   "metadata": {},
   "outputs": [],
   "source": [
    "cu3 = np.array(asc1) # conversión a ndarray: variación de estimación ley Cu"
   ]
  },
  {
   "cell_type": "markdown",
   "metadata": {},
   "source": [
    "**Ploteo final de la estimación de Ordinary Kriging:**"
   ]
  },
  {
   "cell_type": "code",
   "execution_count": 71,
   "metadata": {},
   "outputs": [
    {
     "data": {
      "image/png": "[encoded data removed]",
      "text/plain": [
       "<Figure size 1224x1080 with 6 Axes>"
      ]
     },
     "metadata": {
      "needs_background": "light"
     },
     "output_type": "display_data"
    }
   ],
   "source": [
    "fig = plt.figure(figsize=(17,15))\n",
    "\n",
    "plot1 = fig.add_subplot(131)\n",
    "\n",
    "a = plt.imshow(cu2, cmap=plt.cm.plasma, extent=[200,650,200,600])\n",
    "plt.grid(True)\n",
    "cbar = fig.colorbar(a, orientation=\"horizontal\", pad=.05)\n",
    "cbar.set_label(\"Cu [%]\", labelpad=+1)\n",
    "plt.xlabel(\"Este [x]\"), plt.ylabel(\"Norte [y]\")\n",
    "plt.title(\"Oridinary Kriging 2D sin Restricción\")\n",
    "\n",
    "plot2 = fig.add_subplot(132)\n",
    "\n",
    "b = plt.imshow(cu2, cmap=plt.cm.plasma, extent=[200,650,200,600], vmin=1)\n",
    "plt.grid(True)\n",
    "cbar = fig.colorbar(b, orientation=\"horizontal\", pad=.05)\n",
    "cbar.set_label(\"Cu [%]\", labelpad=+1)\n",
    "plt.xlabel(\"Este [x]\"), plt.ylabel(\"Norte [y]\")\n",
    "plt.title(\"Oridinary Kriging 2D sin Restricción LC 1%\")\n",
    "\n",
    "plot3 = fig.add_subplot(133)\n",
    "\n",
    "c = plt.imshow(cu2, cmap=plt.cm.plasma, extent=[200,650,200,600], vmin=1.8)\n",
    "plt.grid(True)\n",
    "cbar = fig.colorbar(c, orientation=\"horizontal\", pad=.05)\n",
    "cbar.set_label(\"Cu [%]\", labelpad=+1)\n",
    "plt.xlabel(\"Este [x]\"), plt.ylabel(\"Norte [y]\")\n",
    "plt.title(\"Oridinary Kriging 2D sin Restricción LC 1.8%\")\n",
    "\n",
    "plt.show()"
   ]
  },
  {
   "cell_type": "code",
   "execution_count": 72,
   "metadata": {},
   "outputs": [
    {
     "data": {
      "text/html": [
       "<div>\n",
       "<style scoped>\n",
       "    .dataframe tbody tr th:only-of-type {\n",
       "        vertical-align: middle;\n",
       "    }\n",
       "\n",
       "    .dataframe tbody tr th {\n",
       "        vertical-align: top;\n",
       "    }\n",
       "\n",
       "    .dataframe thead th {\n",
       "        text-align: right;\n",
       "    }\n",
       "</style>\n",
       "<table border=\"1\" class=\"dataframe\">\n",
       "  <thead>\n",
       "    <tr style=\"text-align: right;\">\n",
       "      <th></th>\n",
       "      <th>Este [x]</th>\n",
       "      <th>Norte [y]</th>\n",
       "      <th>Cu_OK [%]</th>\n",
       "      <th>Variance</th>\n",
       "    </tr>\n",
       "  </thead>\n",
       "  <tbody>\n",
       "    <tr>\n",
       "      <th>0</th>\n",
       "      <td>200.0</td>\n",
       "      <td>200.0</td>\n",
       "      <td>-0.146138</td>\n",
       "      <td>-0.936548</td>\n",
       "    </tr>\n",
       "    <tr>\n",
       "      <th>1</th>\n",
       "      <td>210.0</td>\n",
       "      <td>200.0</td>\n",
       "      <td>1.018718</td>\n",
       "      <td>0.151647</td>\n",
       "    </tr>\n",
       "    <tr>\n",
       "      <th>2</th>\n",
       "      <td>220.0</td>\n",
       "      <td>200.0</td>\n",
       "      <td>1.055249</td>\n",
       "      <td>0.151032</td>\n",
       "    </tr>\n",
       "    <tr>\n",
       "      <th>3</th>\n",
       "      <td>230.0</td>\n",
       "      <td>200.0</td>\n",
       "      <td>1.090456</td>\n",
       "      <td>0.150628</td>\n",
       "    </tr>\n",
       "    <tr>\n",
       "      <th>4</th>\n",
       "      <td>240.0</td>\n",
       "      <td>200.0</td>\n",
       "      <td>1.123460</td>\n",
       "      <td>0.150379</td>\n",
       "    </tr>\n",
       "  </tbody>\n",
       "</table>\n",
       "</div>"
      ],
      "text/plain": [
       "   Este [x]  Norte [y]  Cu_OK [%]  Variance\n",
       "0     200.0      200.0  -0.146138 -0.936548\n",
       "1     210.0      200.0   1.018718  0.151647\n",
       "2     220.0      200.0   1.055249  0.151032\n",
       "3     230.0      200.0   1.090456  0.150628\n",
       "4     240.0      200.0   1.123460  0.150379"
      ]
     },
     "execution_count": 72,
     "metadata": {},
     "output_type": "execute_result"
    }
   ],
   "source": [
    "d = {\"Este [x]\": xg.flatten(), \"Norte [y]\": yg.flatten(), \"Cu_OK [%]\": z.data.flatten(), \"Variance\": ss.data.flatten()}\n",
    "df2 = pd.DataFrame(data=d)\n",
    "df2.head()"
   ]
  },
  {
   "cell_type": "code",
   "execution_count": 73,
   "metadata": {},
   "outputs": [
    {
     "data": {
      "text/plain": [
       "(1886, 4)"
      ]
     },
     "execution_count": 73,
     "metadata": {},
     "output_type": "execute_result"
    }
   ],
   "source": [
    "df2.shape"
   ]
  },
  {
   "cell_type": "code",
   "execution_count": 74,
   "metadata": {},
   "outputs": [
    {
     "data": {
      "image/png": "[encoded data removed]",
      "text/plain": [
       "<Figure size 1224x1080 with 6 Axes>"
      ]
     },
     "metadata": {
      "needs_background": "light"
     },
     "output_type": "display_data"
    }
   ],
   "source": [
    "fig = plt.figure(figsize=(17,15))\n",
    "\n",
    "plot1 = fig.add_subplot(131)\n",
    "\n",
    "a = plt.imshow(cu2, cmap=plt.cm.plasma, extent=[200,650,200,600])\n",
    "plt.grid(True)\n",
    "cbar = fig.colorbar(a, orientation=\"horizontal\", pad=.05)\n",
    "cbar.set_label(\"Cu [%]\", labelpad=+1)\n",
    "plt.xlabel(\"Este [x]\"), plt.ylabel(\"Norte [y]\")\n",
    "plt.title(\"Oridinary Kriging 2D sin Restricción\")\n",
    "\n",
    "plot2 = fig.add_subplot(132)\n",
    "\n",
    "b = plt.imshow(z.data, cmap=plt.cm.viridis, extent=[200,650,200,600])\n",
    "plt.grid(True)\n",
    "cbar = fig.colorbar(b, orientation=\"horizontal\", pad=.05)\n",
    "cbar.set_label(\"Cu_OK [%]\", labelpad=+1)\n",
    "plt.xlabel(\"Este [x]\"), plt.ylabel(\"Norte [y]\")\n",
    "plt.title(\"Oridinary Kriging 2D: Estimación\")\n",
    "\n",
    "plot3 = fig.add_subplot(133)\n",
    "\n",
    "c = plt.imshow(cu3, cmap=plt.cm.viridis, extent=[200,650,200,600])\n",
    "plt.grid(True)\n",
    "cbar = fig.colorbar(c, orientation=\"horizontal\", pad=.05)\n",
    "cbar.set_label(\"Cu_var [%]\", labelpad=+1)\n",
    "plt.xlabel(\"Este [x]\"), plt.ylabel(\"Norte [y]\")\n",
    "plt.title(\"Oridinary Kriging 2D: Varianza de Estimación\")\n",
    "\n",
    "plt.show()"
   ]
  },
  {
   "cell_type": "code",
   "execution_count": 75,
   "metadata": {},
   "outputs": [],
   "source": [
    "cols = [\"Este [X]\",\"Norte [Y]\",\"Ley Cu [%]\"]\n",
    "cu = np.array(df[cols])"
   ]
  },
  {
   "cell_type": "code",
   "execution_count": 76,
   "metadata": {},
   "outputs": [
    {
     "data": {
      "image/png": "[encoded data removed]",
      "text/plain": [
       "<Figure size 432x288 with 1 Axes>"
      ]
     },
     "metadata": {
      "needs_background": "light"
     },
     "output_type": "display_data"
    }
   ],
   "source": [
    "plt.imshow(cu3, cmap=plt.cm.viridis, extent=[200,650,200,600])\n",
    "plt.show()"
   ]
  },
  {
   "cell_type": "code",
   "execution_count": 77,
   "metadata": {},
   "outputs": [
    {
     "data": {
      "text/plain": [
       "<function geostatspy.GSLIB.gamv_2d(df, xcol, ycol, vcol, nlag, lagdist, azi, atol, bstand)>"
      ]
     },
     "execution_count": 77,
     "metadata": {},
     "output_type": "execute_result"
    }
   ],
   "source": [
    "GSLIB.gamv_2d"
   ]
  },
  {
   "cell_type": "code",
   "execution_count": 78,
   "metadata": {},
   "outputs": [
    {
     "data": {
      "text/plain": [
       "([0.0,\n",
       "  0.0,\n",
       "  59.778,\n",
       "  107.571,\n",
       "  151.812,\n",
       "  203.018,\n",
       "  256.497,\n",
       "  303.81,\n",
       "  352.351,\n",
       "  398.865,\n",
       "  448.209,\n",
       "  499.648,\n",
       "  543.9],\n",
       " [0.57856,\n",
       "  0.0,\n",
       "  0.69834,\n",
       "  0.7721,\n",
       "  0.83341,\n",
       "  0.91374,\n",
       "  1.03605,\n",
       "  1.14094,\n",
       "  1.21224,\n",
       "  1.24409,\n",
       "  1.26048,\n",
       "  1.25011,\n",
       "  1.10179],\n",
       " [14040.0,\n",
       "  0.0,\n",
       "  87840.0,\n",
       "  114048.0,\n",
       "  131040.0,\n",
       "  210816.0,\n",
       "  147744.0,\n",
       "  161856.0,\n",
       "  118368.0,\n",
       "  93888.0,\n",
       "  64800.0,\n",
       "  14400.0,\n",
       "  8064.0])"
      ]
     },
     "execution_count": 78,
     "metadata": {},
     "output_type": "execute_result"
    }
   ],
   "source": [
    "GSLIB.gamv_2d(df=df, xcol=\"Este [X]\", ycol=\"Norte [Y]\", vcol=\"NCu\", nlag=11, lagdist=50, azi=0, atol=90, bstand=1)"
   ]
  },
  {
   "cell_type": "code",
   "execution_count": 79,
   "metadata": {},
   "outputs": [],
   "source": [
    "geostats.gamv?"
   ]
  },
  {
   "cell_type": "code",
   "execution_count": null,
   "metadata": {},
   "outputs": [],
   "source": []
  }
 ],
 "metadata": {
  "@webio": {
   "lastCommId": null,
   "lastKernelId": null
  },
  "kernelspec": {
   "display_name": "Python 3",
   "language": "python",
   "name": "python3"
  },
  "language_info": {
   "codemirror_mode": {
    "name": "ipython",
    "version": 3
   },
   "file_extension": ".py",
   "mimetype": "text/x-python",
   "name": "python",
   "nbconvert_exporter": "python",
   "pygments_lexer": "ipython3",
   "version": "3.7.3"
  }
 },
 "nbformat": 4,
 "nbformat_minor": 2
}
